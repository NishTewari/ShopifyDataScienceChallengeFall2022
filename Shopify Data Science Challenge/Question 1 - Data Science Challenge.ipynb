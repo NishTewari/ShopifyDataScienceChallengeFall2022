{
 "cells": [
  {
   "cell_type": "code",
   "execution_count": 26,
   "id": "6d16a97f",
   "metadata": {},
   "outputs": [
    {
     "name": "stdout",
     "output_type": "stream",
     "text": [
      "Once deleted, variables cannot be recovered. Proceed (y/[n])? n\n",
      "Nothing done.\n"
     ]
    }
   ],
   "source": [
    "%reset"
   ]
  },
  {
   "cell_type": "code",
   "execution_count": 27,
   "id": "1f09fec9",
   "metadata": {},
   "outputs": [],
   "source": [
    "import pandas as pd"
   ]
  },
  {
   "cell_type": "code",
   "execution_count": 28,
   "id": "6675e376",
   "metadata": {},
   "outputs": [],
   "source": [
    "'''\n",
    "On Shopify, we have exactly 100 sneaker shops, and each of these shops sells only one model of shoe. \n",
    "We want to do some analysis of the average order value (AOV). When we look at orders data over a 30 day window, \n",
    "we naively calculate an AOV of $3145.13. Given that we know these shops are selling sneakers, \n",
    "a relatively affordable item, something seems wrong with our analysis. \n",
    "'''\n",
    "\n",
    "dataset = pd.read_csv(\"Shopify_Dataset.csv\")"
   ]
  },
  {
   "cell_type": "code",
   "execution_count": 29,
   "id": "2aa66678",
   "metadata": {},
   "outputs": [
    {
     "data": {
      "text/html": [
       "<div>\n",
       "<style scoped>\n",
       "    .dataframe tbody tr th:only-of-type {\n",
       "        vertical-align: middle;\n",
       "    }\n",
       "\n",
       "    .dataframe tbody tr th {\n",
       "        vertical-align: top;\n",
       "    }\n",
       "\n",
       "    .dataframe thead th {\n",
       "        text-align: right;\n",
       "    }\n",
       "</style>\n",
       "<table border=\"1\" class=\"dataframe\">\n",
       "  <thead>\n",
       "    <tr style=\"text-align: right;\">\n",
       "      <th></th>\n",
       "      <th>order_id</th>\n",
       "      <th>shop_id</th>\n",
       "      <th>user_id</th>\n",
       "      <th>order_amount</th>\n",
       "      <th>total_items</th>\n",
       "      <th>payment_method</th>\n",
       "      <th>created_at</th>\n",
       "    </tr>\n",
       "  </thead>\n",
       "  <tbody>\n",
       "    <tr>\n",
       "      <th>0</th>\n",
       "      <td>1</td>\n",
       "      <td>53</td>\n",
       "      <td>746</td>\n",
       "      <td>224</td>\n",
       "      <td>2</td>\n",
       "      <td>cash</td>\n",
       "      <td>2017-03-13 12:36:56</td>\n",
       "    </tr>\n",
       "    <tr>\n",
       "      <th>1</th>\n",
       "      <td>2</td>\n",
       "      <td>92</td>\n",
       "      <td>925</td>\n",
       "      <td>90</td>\n",
       "      <td>1</td>\n",
       "      <td>cash</td>\n",
       "      <td>2017-03-03 17:38:52</td>\n",
       "    </tr>\n",
       "    <tr>\n",
       "      <th>2</th>\n",
       "      <td>3</td>\n",
       "      <td>44</td>\n",
       "      <td>861</td>\n",
       "      <td>144</td>\n",
       "      <td>1</td>\n",
       "      <td>cash</td>\n",
       "      <td>2017-03-14 4:23:56</td>\n",
       "    </tr>\n",
       "    <tr>\n",
       "      <th>3</th>\n",
       "      <td>4</td>\n",
       "      <td>18</td>\n",
       "      <td>935</td>\n",
       "      <td>156</td>\n",
       "      <td>1</td>\n",
       "      <td>credit_card</td>\n",
       "      <td>2017-03-26 12:43:37</td>\n",
       "    </tr>\n",
       "    <tr>\n",
       "      <th>4</th>\n",
       "      <td>5</td>\n",
       "      <td>18</td>\n",
       "      <td>883</td>\n",
       "      <td>156</td>\n",
       "      <td>1</td>\n",
       "      <td>credit_card</td>\n",
       "      <td>2017-03-01 4:35:11</td>\n",
       "    </tr>\n",
       "  </tbody>\n",
       "</table>\n",
       "</div>"
      ],
      "text/plain": [
       "   order_id  shop_id  user_id  order_amount  total_items payment_method  \\\n",
       "0         1       53      746           224            2           cash   \n",
       "1         2       92      925            90            1           cash   \n",
       "2         3       44      861           144            1           cash   \n",
       "3         4       18      935           156            1    credit_card   \n",
       "4         5       18      883           156            1    credit_card   \n",
       "\n",
       "            created_at  \n",
       "0  2017-03-13 12:36:56  \n",
       "1  2017-03-03 17:38:52  \n",
       "2   2017-03-14 4:23:56  \n",
       "3  2017-03-26 12:43:37  \n",
       "4   2017-03-01 4:35:11  "
      ]
     },
     "execution_count": 29,
     "metadata": {},
     "output_type": "execute_result"
    }
   ],
   "source": [
    "dataset.head()"
   ]
  },
  {
   "cell_type": "code",
   "execution_count": 30,
   "id": "4b93c480",
   "metadata": {
    "scrolled": true
   },
   "outputs": [
    {
     "name": "stdout",
     "output_type": "stream",
     "text": [
      "<class 'pandas.core.frame.DataFrame'>\n",
      "RangeIndex: 5000 entries, 0 to 4999\n",
      "Data columns (total 7 columns):\n",
      " #   Column          Non-Null Count  Dtype \n",
      "---  ------          --------------  ----- \n",
      " 0   order_id        5000 non-null   int64 \n",
      " 1   shop_id         5000 non-null   int64 \n",
      " 2   user_id         5000 non-null   int64 \n",
      " 3   order_amount    5000 non-null   int64 \n",
      " 4   total_items     5000 non-null   int64 \n",
      " 5   payment_method  5000 non-null   object\n",
      " 6   created_at      5000 non-null   object\n",
      "dtypes: int64(5), object(2)\n",
      "memory usage: 273.6+ KB\n"
     ]
    }
   ],
   "source": [
    "dataset.info()"
   ]
  },
  {
   "cell_type": "code",
   "execution_count": 31,
   "id": "33d157ad",
   "metadata": {},
   "outputs": [
    {
     "name": "stdout",
     "output_type": "stream",
     "text": [
      "AOV: 3145.128\n"
     ]
    }
   ],
   "source": [
    "'''\n",
    "a. Think about what could be going wrong with our calculation. Think about a better way to evaluate this data.\n",
    "\n",
    "Basically what shopify has done here is taken the total sum of all order_amounts and divided by 5000. \n",
    "The reason its being divided by 5000 is because that is the total number of rows within the dataset.\n",
    "\n",
    "'''\n",
    "\n",
    "print(\"AOV:\", dataset['order_amount'].sum()/5000)"
   ]
  },
  {
   "cell_type": "code",
   "execution_count": 32,
   "id": "284c4085",
   "metadata": {},
   "outputs": [
    {
     "name": "stdout",
     "output_type": "stream",
     "text": [
      "    order_id  shop_id  user_id  order_amount  total_items payment_method  \\\n",
      "60        61       42      607        704000         2000    credit_card   \n",
      "\n",
      "            created_at  \n",
      "60  2017-03-04 4:00:00  \n"
     ]
    }
   ],
   "source": [
    "'''\n",
    "The problem with doing this is that orders can have multiple items. For example, lets take a closer look at row 60 below\n",
    "\n",
    "It is clear that this order_id contains 2000 items. Shopify has assumed that each order_id contains a single item which led \n",
    "to them calculating the AOV. However, there are 2000 items within a single order of this order_id\n",
    "\n",
    "'''\n",
    "print(dataset.loc[[60]])"
   ]
  },
  {
   "cell_type": "code",
   "execution_count": 33,
   "id": "91518f6b",
   "metadata": {
    "scrolled": true
   },
   "outputs": [
    {
     "name": "stdout",
     "output_type": "stream",
     "text": [
      "   order_id  shop_id  user_id  order_amount  total_items payment_method  \\\n",
      "0         1       53      746           224            2           cash   \n",
      "\n",
      "            created_at  \n",
      "0  2017-03-13 12:36:56  \n",
      "   order_id  shop_id  user_id  order_amount  total_items payment_method  \\\n",
      "1         2       92      925            90            1           cash   \n",
      "\n",
      "            created_at  \n",
      "1  2017-03-03 17:38:52  \n"
     ]
    }
   ],
   "source": [
    "'''\n",
    "b. What metric would you report for this dataset?\n",
    "\n",
    "We know that AOV = Total Revenue / Total Orders\n",
    "The optimal solution for this would be to calculate the Average Revenue Per Item (ARI)\n",
    "\n",
    "ARI = Total order amount / Total items \n",
    "\n",
    "We can take a look at the first 2 rows in the dataset to see what shopify did vs the metric i will be using \n",
    "\n",
    "How shopify calcuated their AOV?\n",
    "(224 + 90) / 2 = 157 (AOV)\n",
    "\n",
    "ARI Metric Calculation \n",
    "(224 + 90) / 3 = 104.67 (ARI)\n",
    "\n",
    "This is because we have to take in consideration of the 2 items within order_id 1 \n",
    "\n",
    "'''\n",
    "print(dataset.loc[[0]])\n",
    "print(dataset.loc[[1]])"
   ]
  },
  {
   "cell_type": "code",
   "execution_count": 34,
   "id": "1a64382b",
   "metadata": {},
   "outputs": [
    {
     "name": "stdout",
     "output_type": "stream",
     "text": [
      "Average Revenue Per Item (ARI): 357.92152221412965\n"
     ]
    }
   ],
   "source": [
    "'''\n",
    "c. What is its value?\n",
    "\n",
    "Let's calculate the Avg Revenue Per Item (ARI) for the entire dataset provided.\n",
    "\n",
    "ARI = Total order amount / Total items\n",
    "\n",
    "Therefore, the ARI for the dataset is $357.92\n",
    "\n",
    "'''\n",
    "print(\"Average Revenue Per Item (ARI):\", dataset['order_amount'].sum()/dataset['total_items'].sum())"
   ]
  }
 ],
 "metadata": {
  "kernelspec": {
   "display_name": "Python 3 (ipykernel)",
   "language": "python",
   "name": "python3"
  },
  "language_info": {
   "codemirror_mode": {
    "name": "ipython",
    "version": 3
   },
   "file_extension": ".py",
   "mimetype": "text/x-python",
   "name": "python",
   "nbconvert_exporter": "python",
   "pygments_lexer": "ipython3",
   "version": "3.9.13"
  }
 },
 "nbformat": 4,
 "nbformat_minor": 5
}
